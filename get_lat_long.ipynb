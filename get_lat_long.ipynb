{
 "cells": [
  {
   "cell_type": "code",
   "execution_count": 11,
   "id": "202aa80c-bb01-4b0c-aea8-8660dfc11355",
   "metadata": {},
   "outputs": [
    {
     "name": "stdout",
     "output_type": "stream",
     "text": [
      "Data has been saved to locations_with_coordinates.csv\n"
     ]
    }
   ],
   "source": [
    "import pandas as pd\n",
    "from geopy.geocoders import Nominatim\n",
    "\n",
    "# Function to get latitude and longitude\n",
    "def get_lat_long(location_name):\n",
    "    geolocator = Nominatim(user_agent=\"geoapiExercises\")\n",
    "    location = geolocator.geocode(location_name)\n",
    "    if location:\n",
    "        return location.latitude, location.longitude\n",
    "    else:\n",
    "        return None, None\n",
    "\n",
    "# List of locations to geocode\n",
    "locations = [\n",
    "    \"Express Avenue Mall\",\n",
    "    \"Chennai Citi Center\",\n",
    "    \"Chennai Lighthouse\",\n",
    "    \"Marina Beach\",\n",
    "    \"Semmozhi Poonga\",\n",
    "    \"Sai Baba Temple Mylapore\",\n",
    "    \"Ampa Skywalk mall\"\n",
    "]\n",
    "\n",
    "# Prepare data for DataFrame\n",
    "data = []\n",
    "for location in locations:\n",
    "    lat, lon = get_lat_long(location)\n",
    "    data.append({\n",
    "        \"name\": location,\n",
    "        \"Latitude\": lat,\n",
    "        \"Longitude\": lon\n",
    "    })\n",
    "\n",
    "# Create a DataFrame\n",
    "df = pd.DataFrame(data)\n",
    "\n",
    "# Save DataFrame to CSV\n",
    "df.to_csv(\"locations_with_lat_lon.csv\", index=False)\n",
    "\n",
    "print(\"Data has been saved to locations_with_coordinates.csv\")\n"
   ]
  },
  {
   "cell_type": "code",
   "execution_count": 26,
   "id": "e9d9ef36-33fc-421b-8384-b711fef64b27",
   "metadata": {},
   "outputs": [
    {
     "data": {
      "text/html": [
       "<div>\n",
       "<style scoped>\n",
       "    .dataframe tbody tr th:only-of-type {\n",
       "        vertical-align: middle;\n",
       "    }\n",
       "\n",
       "    .dataframe tbody tr th {\n",
       "        vertical-align: top;\n",
       "    }\n",
       "\n",
       "    .dataframe thead th {\n",
       "        text-align: right;\n",
       "    }\n",
       "</style>\n",
       "<table border=\"1\" class=\"dataframe\">\n",
       "  <thead>\n",
       "    <tr style=\"text-align: right;\">\n",
       "      <th></th>\n",
       "      <th>name</th>\n",
       "      <th>Latitude</th>\n",
       "      <th>Longitude</th>\n",
       "    </tr>\n",
       "  </thead>\n",
       "  <tbody>\n",
       "    <tr>\n",
       "      <th>0</th>\n",
       "      <td>Express Avenue Mall</td>\n",
       "      <td>13.058821</td>\n",
       "      <td>80.264103</td>\n",
       "    </tr>\n",
       "    <tr>\n",
       "      <th>1</th>\n",
       "      <td>Chennai Citi Center</td>\n",
       "      <td>13.043025</td>\n",
       "      <td>80.273870</td>\n",
       "    </tr>\n",
       "    <tr>\n",
       "      <th>2</th>\n",
       "      <td>Chennai Lighthouse</td>\n",
       "      <td>13.039716</td>\n",
       "      <td>80.279442</td>\n",
       "    </tr>\n",
       "    <tr>\n",
       "      <th>3</th>\n",
       "      <td>Marina Beach</td>\n",
       "      <td>13.053275</td>\n",
       "      <td>80.283289</td>\n",
       "    </tr>\n",
       "    <tr>\n",
       "      <th>4</th>\n",
       "      <td>Semmozhi Poonga</td>\n",
       "      <td>13.050626</td>\n",
       "      <td>80.251510</td>\n",
       "    </tr>\n",
       "    <tr>\n",
       "      <th>5</th>\n",
       "      <td>Sai Baba Temple Mylapore</td>\n",
       "      <td>13.032698</td>\n",
       "      <td>80.264734</td>\n",
       "    </tr>\n",
       "    <tr>\n",
       "      <th>6</th>\n",
       "      <td>PVR Ampa SkyOne</td>\n",
       "      <td>13.073553</td>\n",
       "      <td>80.221499</td>\n",
       "    </tr>\n",
       "  </tbody>\n",
       "</table>\n",
       "</div>"
      ],
      "text/plain": [
       "                       name   Latitude  Longitude\n",
       "0       Express Avenue Mall  13.058821  80.264103\n",
       "1       Chennai Citi Center  13.043025  80.273870\n",
       "2        Chennai Lighthouse  13.039716  80.279442\n",
       "3              Marina Beach  13.053275  80.283289\n",
       "4           Semmozhi Poonga  13.050626  80.251510\n",
       "5  Sai Baba Temple Mylapore  13.032698  80.264734\n",
       "6           PVR Ampa SkyOne  13.073553  80.221499"
      ]
     },
     "execution_count": 26,
     "metadata": {},
     "output_type": "execute_result"
    }
   ],
   "source": [
    "df = pd.read_csv('locations_with_lat_lon.csv')\n",
    "df"
   ]
  }
 ],
 "metadata": {
  "kernelspec": {
   "display_name": "Python (UberEndtoEnd)",
   "language": "python",
   "name": "uberendtoend"
  },
  "language_info": {
   "codemirror_mode": {
    "name": "ipython",
    "version": 3
   },
   "file_extension": ".py",
   "mimetype": "text/x-python",
   "name": "python",
   "nbconvert_exporter": "python",
   "pygments_lexer": "ipython3",
   "version": "3.11.9"
  }
 },
 "nbformat": 4,
 "nbformat_minor": 5
}
