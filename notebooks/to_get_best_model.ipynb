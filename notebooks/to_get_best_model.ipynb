{
 "cells": [
  {
   "cell_type": "markdown",
   "id": "f05812da-c67e-453c-b7c9-e6d927cd1990",
   "metadata": {},
   "source": [
    "# Best Model Selection using MlFlow\n",
    "- Done once a day at 9:00 am\n",
    "- To get the best model after iteratively training and testing our models with new data that comes in every hour of everyday"
   ]
  },
  {
   "cell_type": "code",
   "execution_count": 2,
   "id": "bef57a3c-2e65-4e15-a882-051c602c2998",
   "metadata": {},
   "outputs": [
    {
     "name": "stdout",
     "output_type": "stream",
     "text": [
      "{'Price Prediction Model': '0bb3eeed59f64037a301ee4d9679aaac', 'Waiting Time Prediction Model': 'fade6bf6d87e4be19efdb446e70cc107', 'Ride Time Prediction Model': '092e991510ba408f982a5e92415772fa'}\n"
     ]
    }
   ],
   "source": [
    "\n",
    "import mlflow\n",
    "import mlflow.pyfunc\n",
    "\n",
    "# Experiment name\n",
    "experiment_name = \"Uber Ride Prediction\"\n",
    "\n",
    "# Get experiment ID\n",
    "experiment = mlflow.get_experiment_by_name(experiment_name)\n",
    "experiment_id = experiment.experiment_id\n",
    "\n",
    "# Define model names\n",
    "model_names = ['Price Prediction Model', 'Waiting Time Prediction Model', 'Ride Time Prediction Model']\n",
    "\n",
    "# Dictionary to store the best run IDs for each model\n",
    "best_runs = {}\n",
    "\n",
    "# Get all runs for the experiment\n",
    "runs = mlflow.search_runs(experiment_ids=[experiment_id])\n",
    "\n",
    "# Find the best run for each model\n",
    "for model_name in model_names:\n",
    "    # Filter runs for the current model\n",
    "    model_runs = runs[runs['tags.mlflow.runName'].str.contains(model_name)]\n",
    "    \n",
    "    # Ensure there are runs available for the model\n",
    "    if not model_runs.empty:\n",
    "        # Find the best run based on a metric, e.g., 'R2'\n",
    "        best_run = model_runs.sort_values(by='metrics.R2', ascending=False).iloc[0]\n",
    "        best_run_id = best_run.run_id\n",
    "        best_runs[model_name] = best_run_id\n",
    "    else:\n",
    "        print(f\"No runs found for model {model_name}\")\n",
    "\n",
    "# Print best runs for verification\n",
    "print(best_runs)\n"
   ]
  },
  {
   "cell_type": "code",
   "execution_count": 7,
   "id": "a1cdf740-e811-409d-99c7-783aec07d61c",
   "metadata": {},
   "outputs": [
    {
     "name": "stdout",
     "output_type": "stream",
     "text": [
      "Price Prediction Model\n",
      "0bb3eeed59f64037a301ee4d9679aaac\n",
      "Waiting Time Prediction Model\n",
      "fade6bf6d87e4be19efdb446e70cc107\n",
      "Ride Time Prediction Model\n",
      "092e991510ba408f982a5e92415772fa\n"
     ]
    }
   ],
   "source": [
    "for model_name, run_id in best_runs.items():\n",
    "    print(model_name)\n",
    "    print(run_id)"
   ]
  },
  {
   "cell_type": "code",
   "execution_count": 11,
   "id": "c3066c08-7d37-4e6f-ac68-cfc904b78d46",
   "metadata": {},
   "outputs": [
    {
     "name": "stderr",
     "output_type": "stream",
     "text": [
      "2024/09/18 16:57:01 WARNING mlflow.utils.requirements_utils: Detected one or more mismatches between the model's dependencies and the current Python environment:\n",
      " - mlflow (current: 2.16.2, required: mlflow==2.3)\n",
      "To fix the mismatches, call `mlflow.pyfunc.get_model_dependencies(model_uri)` to fetch the model's environment and install dependencies using the resulting environment file.\n",
      "2024/09/18 16:57:01 WARNING mlflow.utils.requirements_utils: Detected one or more mismatches between the model's dependencies and the current Python environment:\n",
      " - mlflow (current: 2.16.2, required: mlflow==2.3)\n",
      "To fix the mismatches, call `mlflow.pyfunc.get_model_dependencies(model_uri)` to fetch the model's environment and install dependencies using the resulting environment file.\n",
      "2024/09/18 16:57:02 WARNING mlflow.utils.requirements_utils: Detected one or more mismatches between the model's dependencies and the current Python environment:\n",
      " - mlflow (current: 2.16.2, required: mlflow==2.3)\n",
      "To fix the mismatches, call `mlflow.pyfunc.get_model_dependencies(model_uri)` to fetch the model's environment and install dependencies using the resulting environment file.\n"
     ]
    },
    {
     "name": "stdout",
     "output_type": "stream",
     "text": [
      "dict_keys(['Price Prediction Model', 'Waiting Time Prediction Model', 'Ride Time Prediction Model'])\n"
     ]
    }
   ],
   "source": [
    "import mlflow.pyfunc\n",
    "\n",
    "# Dictionary to store loaded models\n",
    "models = {}\n",
    "\n",
    "# Load each model\n",
    "for model_name, run_id in best_runs.items():\n",
    "    model_uri = f\"runs:/{run_id}/{model_name}/\"\n",
    "    models[model_name] = mlflow.pyfunc.load_model(model_uri)\n",
    "\n",
    "# Print to verify loading\n",
    "print(models.keys())\n"
   ]
  },
  {
   "cell_type": "code",
   "execution_count": 2,
   "id": "4f45a6eb-479c-4b23-a276-8c7a954d692e",
   "metadata": {},
   "outputs": [
    {
     "name": "stderr",
     "output_type": "stream",
     "text": [
      "2024/09/18 17:32:49 WARNING mlflow.utils.requirements_utils: Detected one or more mismatches between the model's dependencies and the current Python environment:\n",
      " - mlflow (current: 2.16.2, required: mlflow==2.3)\n",
      "To fix the mismatches, call `mlflow.pyfunc.get_model_dependencies(model_uri)` to fetch the model's environment and install dependencies using the resulting environment file.\n"
     ]
    },
    {
     "name": "stdout",
     "output_type": "stream",
     "text": [
      "Models saved: Price Prediction Model, Waiting Time Prediction Model, Ride Time Prediction Model\n"
     ]
    }
   ],
   "source": [
    "import mlflow.pyfunc\n",
    "import pickle\n",
    "import os\n",
    "import mlflow\n",
    "\n",
    "# Experiment name\n",
    "experiment_name = \"Uber Ride Prediction\"\n",
    "\n",
    "# Get experiment ID\n",
    "experiment = mlflow.get_experiment_by_name(experiment_name)\n",
    "experiment_id = experiment.experiment_id\n",
    "\n",
    "# Define model names\n",
    "model_names = ['Price Prediction Model', 'Waiting Time Prediction Model', 'Ride Time Prediction Model']\n",
    "\n",
    "# Dictionary to store the best run IDs for each model\n",
    "best_runs = {}\n",
    "\n",
    "# Get all runs for the experiment\n",
    "runs = mlflow.search_runs(experiment_ids=[experiment_id])\n",
    "\n",
    "# Find the best run for each model\n",
    "for model_name in model_names:\n",
    "    # Filter runs for the current model\n",
    "    model_runs = runs[runs['tags.mlflow.runName'].str.contains(model_name)]\n",
    "    \n",
    "    # Ensure there are runs available for the model\n",
    "    if not model_runs.empty:\n",
    "        # Find the best run based on a metric, e.g., 'R2'\n",
    "        best_run = model_runs.sort_values(by='metrics.R2', ascending=False).iloc[0]\n",
    "        best_run_id = best_run.run_id\n",
    "        best_runs[model_name] = best_run_id\n",
    "    else:\n",
    "        print(f\"No runs found for model {model_name}\")\n",
    "\n",
    "\n",
    "# Dictionary to store loaded models\n",
    "models = {}\n",
    "\n",
    "# Load each model\n",
    "for model_name, run_id in best_runs.items():\n",
    "    model_uri = f\"runs:/{run_id}/{model_name}/\"\n",
    "    models[model_name] = mlflow.pyfunc.load_model(model_uri)\n",
    "\n",
    "# Create the directory if it doesn't exist\n",
    "os.makedirs('bestmodels', exist_ok=True)\n",
    "\n",
    "# Save each model as a .pkl file\n",
    "for model_name, model in models.items():\n",
    "    file_path = f\"bestmodels/{model_name}_pipeline.pkl\"\n",
    "    with open(file_path, 'wb') as file:\n",
    "        pickle.dump(model, file)\n",
    "\n",
    "# Print to verify saving\n",
    "print(f\"Models saved: {', '.join(models.keys())}\")\n"
   ]
  }
 ],
 "metadata": {
  "kernelspec": {
   "display_name": "Python (UberEndtoEnd)",
   "language": "python",
   "name": "uberendtoend"
  },
  "language_info": {
   "codemirror_mode": {
    "name": "ipython",
    "version": 3
   },
   "file_extension": ".py",
   "mimetype": "text/x-python",
   "name": "python",
   "nbconvert_exporter": "python",
   "pygments_lexer": "ipython3",
   "version": "3.11.9"
  }
 },
 "nbformat": 4,
 "nbformat_minor": 5
}
